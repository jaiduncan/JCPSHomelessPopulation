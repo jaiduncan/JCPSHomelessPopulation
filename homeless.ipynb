{
 "cells": [
  {
   "cell_type": "code",
   "execution_count": 1,
   "metadata": {},
   "outputs": [
    {
     "data": {
      "text/plain": [
       "<AxesSubplot:ylabel='None'>"
      ]
     },
     "execution_count": 1,
     "metadata": {},
     "output_type": "execute_result"
    },
    {
     "data": {
      "image/png": "[encoded data removed]",
      "text/plain": [
       "<Figure size 432x288 with 1 Axes>"
      ]
     },
     "metadata": {},
     "output_type": "display_data"
    }
   ],
   "source": [
    "import pandas as pd\n",
    "import matplotlib.pyplot as plt\n",
    "\n",
    "#keeping Brown School from this excel sheet only\n",
    "elem=pd.read_excel(\"JCPS_20-21 Homeless.xlsx\")\n",
    "#total elem homeless population\n",
    "elem_total_homeless=elem.iloc[89]\n",
    "#district total homeless population\n",
    "district_total_homeless=elem.iloc[93]\n",
    "\n",
    "elem.drop(labels=[89,90], inplace=True)\n",
    "\n",
    "elem.drop(labels=range(92,102), inplace=True)\n",
    "\n",
    "\n",
    "hs=pd.read_excel(\"JCPS_20-21_HS.xlsx\")\n",
    "#keeping Moore Traditional and The Academy @ Shawnee only from this excel sheet\n",
    "\n",
    "hs.drop(labels=[18,19,20], inplace=True)\n",
    "hs.drop(labels=range(23,33), inplace=True)\n",
    "\n",
    "\n",
    "ms=pd.read_excel(\"JCPS_20-21_MS.xlsx\")\n",
    "\n",
    "\n",
    "ms.drop(labels=range(22,37), inplace=True)\n",
    "\n",
    "\n",
    "df=pd.concat([elem, ms, hs])\n",
    "\n",
    "\n",
    "df.drop(columns=['SLN', 'Male', 'Female', 'Homeless % Among Total Homeless Population'], inplace=True)\n",
    "\n",
    "\n",
    "for i in range(1,9):\n",
    "    df[df.columns[i]]=pd.to_numeric(df[df.columns[i]], errors='coerce')\n",
    "    #df[df.columns[i]]=df[df.columns[i]].fillna(0)\n",
    "    #df[df.columns[i]]=df[df.columns[i]].astype('int16')\n",
    "\n",
    "asian_sum=df['Asian'].sum()\n",
    "\n",
    "totals=df.iloc[:,range (1,8)].sum()\n",
    "\n",
    "totals.plot.pie()"
   ]
  }
 ],
 "metadata": {
  "kernelspec": {
   "display_name": "Python 3.10.5 64-bit (windows store)",
   "language": "python",
   "name": "python3"
  },
  "language_info": {
   "codemirror_mode": {
    "name": "ipython",
    "version": 3
   },
   "file_extension": ".py",
   "mimetype": "text/x-python",
   "name": "python",
   "nbconvert_exporter": "python",
   "pygments_lexer": "ipython3",
   "version": "3.10.5"
  },
  "orig_nbformat": 4,
  "vscode": {
   "interpreter": {
    "hash": "341d4840b7d8a37649017f6e4e67850345bc5b036da331a9645c8cb48b1715a2"
   }
  }
 },
 "nbformat": 4,
 "nbformat_minor": 2
}
